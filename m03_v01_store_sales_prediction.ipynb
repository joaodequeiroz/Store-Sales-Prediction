{
 "cells": [
  {
   "cell_type": "markdown",
   "id": "d21a8bb9",
   "metadata": {},
   "source": [
    "# 0.0 IMPORTS\n"
   ]
  },
  {
   "cell_type": "markdown",
   "id": "0efe65d4",
   "metadata": {
    "ExecuteTime": {
     "end_time": "2021-05-13T23:35:36.583777Z",
     "start_time": "2021-05-13T23:35:36.576280Z"
    }
   },
   "source": [
    "## 0.1 Helper Functions"
   ]
  },
  {
   "cell_type": "code",
   "execution_count": 46,
   "id": "c96e08df",
   "metadata": {
    "ExecuteTime": {
     "end_time": "2021-05-14T21:43:25.549858Z",
     "start_time": "2021-05-14T21:43:25.542494Z"
    }
   },
   "outputs": [],
   "source": [
    "import pandas as pd\n",
    "import inflection \n",
    "import math\n",
    "import numpy as np\n",
    "import seaborn as sns\n",
    "import matplotlib.pyplot as plt\n",
    "from IPython.core.display import HTML\n",
    "from IPython.display import Image\n",
    "import datetime"
   ]
  },
  {
   "cell_type": "markdown",
   "id": "3d285d15",
   "metadata": {},
   "source": [
    "## 0.2 Loading Data"
   ]
  },
  {
   "cell_type": "code",
   "execution_count": 16,
   "id": "08e754f2",
   "metadata": {
    "ExecuteTime": {
     "end_time": "2021-05-14T21:27:22.841512Z",
     "start_time": "2021-05-14T21:27:21.154396Z"
    }
   },
   "outputs": [],
   "source": [
    "df_sales_raw = pd.read_csv('data/train.csv', low_memory=False)\n",
    "df_store_raw = pd.read_csv('data/store.csv', low_memory=False)\n",
    "\n",
    "#merge\n",
    "\n",
    "df_raw = pd.merge(df_sales_raw, df_store_raw, how='left', on='Store')\n"
   ]
  },
  {
   "cell_type": "markdown",
   "id": "01dfd00d",
   "metadata": {
    "ExecuteTime": {
     "end_time": "2021-05-13T23:34:44.977324Z",
     "start_time": "2021-05-13T23:34:44.965644Z"
    }
   },
   "source": [
    "# 1.0 PASSO 01 - DESCRICAO DOS DADOS\n"
   ]
  },
  {
   "cell_type": "code",
   "execution_count": 17,
   "id": "c5d726c1",
   "metadata": {
    "ExecuteTime": {
     "end_time": "2021-05-14T21:27:22.939549Z",
     "start_time": "2021-05-14T21:27:22.845193Z"
    }
   },
   "outputs": [],
   "source": [
    "df1 = df_raw.copy()"
   ]
  },
  {
   "cell_type": "markdown",
   "id": "2f21c911",
   "metadata": {
    "heading_collapsed": true
   },
   "source": [
    "## 1.1 Rename Columns\n"
   ]
  },
  {
   "cell_type": "code",
   "execution_count": 18,
   "id": "1f0d11e8",
   "metadata": {
    "ExecuteTime": {
     "end_time": "2021-05-14T21:27:22.972254Z",
     "start_time": "2021-05-14T21:27:22.944080Z"
    },
    "hidden": true
   },
   "outputs": [],
   "source": [
    "cols_old = ['Store', 'DayOfWeek', 'Date', 'Sales', 'Customers', 'Open', 'Promo',\n",
    "       'StateHoliday', 'SchoolHoliday', 'StoreType', 'Assortment',\n",
    "       'CompetitionDistance', 'CompetitionOpenSinceMonth',\n",
    "       'CompetitionOpenSinceYear', 'Promo2', 'Promo2SinceWeek',\n",
    "       'Promo2SinceYear', 'PromoInterval']\n",
    "\n",
    "snakecase = lambda x: inflection.underscore (x) \n",
    "cols_new = list(map (snakecase, cols_old))\n",
    "\n",
    "#rename\n",
    "df1.columns = cols_new"
   ]
  },
  {
   "cell_type": "code",
   "execution_count": null,
   "id": "74070832",
   "metadata": {
    "hidden": true
   },
   "outputs": [],
   "source": []
  },
  {
   "cell_type": "markdown",
   "id": "ec34c8aa",
   "metadata": {},
   "source": [
    "## 1.2 Data Dimensions\n"
   ]
  },
  {
   "cell_type": "code",
   "execution_count": 19,
   "id": "13d806bd",
   "metadata": {
    "ExecuteTime": {
     "end_time": "2021-05-14T21:27:22.994259Z",
     "start_time": "2021-05-14T21:27:22.982724Z"
    }
   },
   "outputs": [
    {
     "name": "stdout",
     "output_type": "stream",
     "text": [
      "Number of rows: 1017209\n",
      "Number of rows: 18\n"
     ]
    }
   ],
   "source": [
    "print('Number of rows: {}'.format (df1.shape[0]))\n",
    "print('Number of rows: {}'.format (df1.shape[1]))"
   ]
  },
  {
   "cell_type": "markdown",
   "id": "56221ab1",
   "metadata": {},
   "source": [
    "## 1.3 Data Types"
   ]
  },
  {
   "cell_type": "code",
   "execution_count": 20,
   "id": "6ee96c4e",
   "metadata": {
    "ExecuteTime": {
     "end_time": "2021-05-14T21:27:23.360372Z",
     "start_time": "2021-05-14T21:27:23.002597Z"
    }
   },
   "outputs": [
    {
     "data": {
      "text/plain": [
       "store                                    int64\n",
       "day_of_week                              int64\n",
       "date                            datetime64[ns]\n",
       "sales                                    int64\n",
       "customers                                int64\n",
       "open                                     int64\n",
       "promo                                    int64\n",
       "state_holiday                           object\n",
       "school_holiday                           int64\n",
       "store_type                              object\n",
       "assortment                              object\n",
       "competition_distance                   float64\n",
       "competition_open_since_month           float64\n",
       "competition_open_since_year            float64\n",
       "promo2                                   int64\n",
       "promo2_since_week                      float64\n",
       "promo2_since_year                      float64\n",
       "promo_interval                          object\n",
       "dtype: object"
      ]
     },
     "execution_count": 20,
     "metadata": {},
     "output_type": "execute_result"
    }
   ],
   "source": [
    "df1['date'] = pd.to_datetime(df1['date'])\n",
    "df1.dtypes"
   ]
  },
  {
   "cell_type": "markdown",
   "id": "3cb2bcad",
   "metadata": {},
   "source": [
    "## 1.4 Check NA"
   ]
  },
  {
   "cell_type": "code",
   "execution_count": 21,
   "id": "7148f71a",
   "metadata": {
    "ExecuteTime": {
     "end_time": "2021-05-14T21:27:23.756760Z",
     "start_time": "2021-05-14T21:27:23.403237Z"
    }
   },
   "outputs": [
    {
     "data": {
      "text/plain": [
       "store                                0\n",
       "day_of_week                          0\n",
       "date                                 0\n",
       "sales                                0\n",
       "customers                            0\n",
       "open                                 0\n",
       "promo                                0\n",
       "state_holiday                        0\n",
       "school_holiday                       0\n",
       "store_type                           0\n",
       "assortment                           0\n",
       "competition_distance              2642\n",
       "competition_open_since_month    323348\n",
       "competition_open_since_year     323348\n",
       "promo2                               0\n",
       "promo2_since_week               508031\n",
       "promo2_since_year               508031\n",
       "promo_interval                  508031\n",
       "dtype: int64"
      ]
     },
     "execution_count": 21,
     "metadata": {},
     "output_type": "execute_result"
    }
   ],
   "source": [
    "df1.isna().sum()\n",
    "\n",
    "# Mostrar colunas que tem valores NA"
   ]
  },
  {
   "cell_type": "markdown",
   "id": "8ab4df42",
   "metadata": {},
   "source": [
    "## 1.5 Fillout NA\n"
   ]
  },
  {
   "cell_type": "code",
   "execution_count": 22,
   "id": "7485d81c",
   "metadata": {
    "ExecuteTime": {
     "end_time": "2021-05-14T21:27:23.783145Z",
     "start_time": "2021-05-14T21:27:23.765499Z"
    }
   },
   "outputs": [
    {
     "data": {
      "text/plain": [
       "75860.0"
      ]
     },
     "execution_count": 22,
     "metadata": {},
     "output_type": "execute_result"
    }
   ],
   "source": [
    "df1['competition_distance'].max()"
   ]
  },
  {
   "cell_type": "code",
   "execution_count": 23,
   "id": "e672da3a",
   "metadata": {
    "ExecuteTime": {
     "end_time": "2021-05-14T21:29:38.861468Z",
     "start_time": "2021-05-14T21:27:23.790163Z"
    }
   },
   "outputs": [],
   "source": [
    "# competition_distance              2642\n",
    "\n",
    "df1['competition_distance'] = df1['competition_distance'].apply(lambda x: 200000.0 if math.isnan( x ) else x)\n",
    "\n",
    "# competition_open_since_month    323348\n",
    "df1['competition_open_since_month'] = df1.apply( lambda x: x['date'].month if math.isnan(x['competition_open_since_month']) else x['competition_open_since_month'], axis=1)\n",
    "\n",
    "# competition_open_since_year     323348\n",
    "df1['competition_open_since_year'] = df1.apply( lambda x: x['date'].year if math.isnan(x['competition_open_since_year']) else x['competition_open_since_year'], axis=1)\n",
    "\n",
    "# promo2_since_week               508031\n",
    "df1['promo2_since_week'] = df1.apply( lambda x: x['date'].week if math.isnan(x['promo2_since_week']) else x['promo2_since_week'], axis=1)\n",
    "\n",
    "# promo2_since_year               508031\n",
    "df1['promo2_since_year'] = df1.apply( lambda x: x['date'].year if math.isnan(x['promo2_since_year']) else x['promo2_since_year'], axis=1)\n",
    "\n",
    "# promo_interval                  508031\n",
    "month_map = {1: 'Jan', 2: 'Fev', 3: 'Mar', 4: 'Apr', 5: 'May', 6: 'Jun', 7: 'Jul', 8: 'Aug', 9: 'Sep', 10: 'Oct', 11: 'Nov', 12: 'Dez'}\n",
    "df1['promo_interval'].fillna(0, inplace=True)\n",
    "df1['month_map'] = df1['date'].dt.month.map(month_map)\n",
    "df1['is_promo'] = df1[['promo_interval', 'month_map']].apply(lambda x: 0 if x['promo_interval'] == 0 else 1 if x['month_map'] in x['promo_interval'].split(',') else 0, axis=1)\n"
   ]
  },
  {
   "cell_type": "code",
   "execution_count": 24,
   "id": "8ed126aa",
   "metadata": {
    "ExecuteTime": {
     "end_time": "2021-05-14T21:29:39.143513Z",
     "start_time": "2021-05-14T21:29:38.864253Z"
    }
   },
   "outputs": [
    {
     "data": {
      "text/plain": [
       "store                           0\n",
       "day_of_week                     0\n",
       "date                            0\n",
       "sales                           0\n",
       "customers                       0\n",
       "open                            0\n",
       "promo                           0\n",
       "state_holiday                   0\n",
       "school_holiday                  0\n",
       "store_type                      0\n",
       "assortment                      0\n",
       "competition_distance            0\n",
       "competition_open_since_month    0\n",
       "competition_open_since_year     0\n",
       "promo2                          0\n",
       "promo2_since_week               0\n",
       "promo2_since_year               0\n",
       "promo_interval                  0\n",
       "month_map                       0\n",
       "is_promo                        0\n",
       "dtype: int64"
      ]
     },
     "execution_count": 24,
     "metadata": {},
     "output_type": "execute_result"
    }
   ],
   "source": [
    "df1.isna().sum()"
   ]
  },
  {
   "cell_type": "markdown",
   "id": "bd5926ec",
   "metadata": {},
   "source": [
    "## 1.6 Change Types"
   ]
  },
  {
   "cell_type": "code",
   "execution_count": 25,
   "id": "ef337671",
   "metadata": {
    "ExecuteTime": {
     "end_time": "2021-05-14T21:29:39.241943Z",
     "start_time": "2021-05-14T21:29:39.148002Z"
    }
   },
   "outputs": [],
   "source": [
    "df1['competition_open_since_month'] = df1['competition_open_since_month'].astype(int)\n",
    "df1['competition_open_since_year'] = df1['competition_open_since_year'].astype(int)\n",
    "df1['promo2_since_week'] = df1['promo2_since_week'].astype(int)\n",
    "df1['promo2_since_year'] = df1['promo2_since_year'].astype(int)"
   ]
  },
  {
   "cell_type": "markdown",
   "id": "1c6595e6",
   "metadata": {},
   "source": [
    "## 1.7 Descriptive Statistics"
   ]
  },
  {
   "cell_type": "code",
   "execution_count": 26,
   "id": "2333e84a",
   "metadata": {
    "ExecuteTime": {
     "end_time": "2021-05-14T21:29:39.502815Z",
     "start_time": "2021-05-14T21:29:39.245125Z"
    }
   },
   "outputs": [],
   "source": [
    "num_attributes = df1.select_dtypes(include=['int64', 'float64'])\n",
    "cat_attributes = df1.select_dtypes(exclude=['int64', 'float64', 'datetime64[ns]'])\n"
   ]
  },
  {
   "cell_type": "markdown",
   "id": "34c71e4f",
   "metadata": {
    "ExecuteTime": {
     "end_time": "2021-05-14T17:32:02.569078Z",
     "start_time": "2021-05-14T17:32:02.560441Z"
    }
   },
   "source": [
    "### 1.7.1 Numerical Attributes"
   ]
  },
  {
   "cell_type": "code",
   "execution_count": 27,
   "id": "31e66407",
   "metadata": {
    "ExecuteTime": {
     "end_time": "2021-05-14T21:29:43.863925Z",
     "start_time": "2021-05-14T21:29:39.505437Z"
    }
   },
   "outputs": [],
   "source": [
    "# Central Tendency - mean, median\n",
    "\n",
    "ct1 = pd.DataFrame(num_attributes.apply(np.mean)).T\n",
    "ct2 = pd.DataFrame(num_attributes.apply(np.median)).T\n",
    "\n",
    "# Dispersion - std, min, max, range, skew, kurtosis\n",
    "d1 = pd.DataFrame(num_attributes.apply(np.std)).T\n",
    "d2 = pd.DataFrame(num_attributes.apply(min)).T\n",
    "d3 = pd.DataFrame(num_attributes.apply(max)).T\n",
    "d4 = pd.DataFrame(num_attributes.apply(lambda x: x.max() - x.min())).T\n",
    "d5 = pd.DataFrame(num_attributes.apply(lambda x: x.skew())).T\n",
    "d6 = pd.DataFrame(num_attributes.apply(lambda x: x.kurtosis())).T\n",
    "\n",
    "# concatenate\n",
    "\n",
    "m = pd.concat([d2,d3,d4,ct1,ct2,d1,d5,d6]).T.reset_index()\n",
    "\n",
    "m.columns = ['attibutes', 'min', 'max', 'range', 'mean', 'median', 'std', 'skew', 'kutosis']"
   ]
  },
  {
   "cell_type": "code",
   "execution_count": 28,
   "id": "a1f665b9",
   "metadata": {
    "ExecuteTime": {
     "end_time": "2021-05-14T21:29:43.923865Z",
     "start_time": "2021-05-14T21:29:43.866744Z"
    }
   },
   "outputs": [
    {
     "data": {
      "text/html": [
       "<div>\n",
       "<style scoped>\n",
       "    .dataframe tbody tr th:only-of-type {\n",
       "        vertical-align: middle;\n",
       "    }\n",
       "\n",
       "    .dataframe tbody tr th {\n",
       "        vertical-align: top;\n",
       "    }\n",
       "\n",
       "    .dataframe thead th {\n",
       "        text-align: right;\n",
       "    }\n",
       "</style>\n",
       "<table border=\"1\" class=\"dataframe\">\n",
       "  <thead>\n",
       "    <tr style=\"text-align: right;\">\n",
       "      <th></th>\n",
       "      <th>attibutes</th>\n",
       "      <th>min</th>\n",
       "      <th>max</th>\n",
       "      <th>range</th>\n",
       "      <th>mean</th>\n",
       "      <th>median</th>\n",
       "      <th>std</th>\n",
       "      <th>skew</th>\n",
       "      <th>kutosis</th>\n",
       "    </tr>\n",
       "  </thead>\n",
       "  <tbody>\n",
       "    <tr>\n",
       "      <th>0</th>\n",
       "      <td>store</td>\n",
       "      <td>1.0</td>\n",
       "      <td>1115.0</td>\n",
       "      <td>1114.0</td>\n",
       "      <td>558.429727</td>\n",
       "      <td>558.0</td>\n",
       "      <td>321.908493</td>\n",
       "      <td>-0.000955</td>\n",
       "      <td>-1.200524</td>\n",
       "    </tr>\n",
       "    <tr>\n",
       "      <th>1</th>\n",
       "      <td>day_of_week</td>\n",
       "      <td>1.0</td>\n",
       "      <td>7.0</td>\n",
       "      <td>6.0</td>\n",
       "      <td>3.998341</td>\n",
       "      <td>4.0</td>\n",
       "      <td>1.997390</td>\n",
       "      <td>0.001593</td>\n",
       "      <td>-1.246873</td>\n",
       "    </tr>\n",
       "    <tr>\n",
       "      <th>2</th>\n",
       "      <td>sales</td>\n",
       "      <td>0.0</td>\n",
       "      <td>41551.0</td>\n",
       "      <td>41551.0</td>\n",
       "      <td>5773.818972</td>\n",
       "      <td>5744.0</td>\n",
       "      <td>3849.924283</td>\n",
       "      <td>0.641460</td>\n",
       "      <td>1.778375</td>\n",
       "    </tr>\n",
       "    <tr>\n",
       "      <th>3</th>\n",
       "      <td>customers</td>\n",
       "      <td>0.0</td>\n",
       "      <td>7388.0</td>\n",
       "      <td>7388.0</td>\n",
       "      <td>633.145946</td>\n",
       "      <td>609.0</td>\n",
       "      <td>464.411506</td>\n",
       "      <td>1.598650</td>\n",
       "      <td>7.091773</td>\n",
       "    </tr>\n",
       "    <tr>\n",
       "      <th>4</th>\n",
       "      <td>open</td>\n",
       "      <td>0.0</td>\n",
       "      <td>1.0</td>\n",
       "      <td>1.0</td>\n",
       "      <td>0.830107</td>\n",
       "      <td>1.0</td>\n",
       "      <td>0.375539</td>\n",
       "      <td>-1.758045</td>\n",
       "      <td>1.090723</td>\n",
       "    </tr>\n",
       "    <tr>\n",
       "      <th>5</th>\n",
       "      <td>promo</td>\n",
       "      <td>0.0</td>\n",
       "      <td>1.0</td>\n",
       "      <td>1.0</td>\n",
       "      <td>0.381515</td>\n",
       "      <td>0.0</td>\n",
       "      <td>0.485758</td>\n",
       "      <td>0.487838</td>\n",
       "      <td>-1.762018</td>\n",
       "    </tr>\n",
       "    <tr>\n",
       "      <th>6</th>\n",
       "      <td>school_holiday</td>\n",
       "      <td>0.0</td>\n",
       "      <td>1.0</td>\n",
       "      <td>1.0</td>\n",
       "      <td>0.178647</td>\n",
       "      <td>0.0</td>\n",
       "      <td>0.383056</td>\n",
       "      <td>1.677842</td>\n",
       "      <td>0.815154</td>\n",
       "    </tr>\n",
       "    <tr>\n",
       "      <th>7</th>\n",
       "      <td>competition_distance</td>\n",
       "      <td>20.0</td>\n",
       "      <td>200000.0</td>\n",
       "      <td>199980.0</td>\n",
       "      <td>5935.442677</td>\n",
       "      <td>2330.0</td>\n",
       "      <td>12547.646829</td>\n",
       "      <td>10.242344</td>\n",
       "      <td>147.789712</td>\n",
       "    </tr>\n",
       "    <tr>\n",
       "      <th>8</th>\n",
       "      <td>competition_open_since_month</td>\n",
       "      <td>1.0</td>\n",
       "      <td>12.0</td>\n",
       "      <td>11.0</td>\n",
       "      <td>6.786849</td>\n",
       "      <td>7.0</td>\n",
       "      <td>3.311085</td>\n",
       "      <td>-0.042076</td>\n",
       "      <td>-1.232607</td>\n",
       "    </tr>\n",
       "    <tr>\n",
       "      <th>9</th>\n",
       "      <td>competition_open_since_year</td>\n",
       "      <td>1900.0</td>\n",
       "      <td>2015.0</td>\n",
       "      <td>115.0</td>\n",
       "      <td>2010.324840</td>\n",
       "      <td>2012.0</td>\n",
       "      <td>5.515591</td>\n",
       "      <td>-7.235657</td>\n",
       "      <td>124.071304</td>\n",
       "    </tr>\n",
       "    <tr>\n",
       "      <th>10</th>\n",
       "      <td>promo2</td>\n",
       "      <td>0.0</td>\n",
       "      <td>1.0</td>\n",
       "      <td>1.0</td>\n",
       "      <td>0.500564</td>\n",
       "      <td>1.0</td>\n",
       "      <td>0.500000</td>\n",
       "      <td>-0.002255</td>\n",
       "      <td>-1.999999</td>\n",
       "    </tr>\n",
       "    <tr>\n",
       "      <th>11</th>\n",
       "      <td>promo2_since_week</td>\n",
       "      <td>1.0</td>\n",
       "      <td>52.0</td>\n",
       "      <td>51.0</td>\n",
       "      <td>23.619033</td>\n",
       "      <td>22.0</td>\n",
       "      <td>14.310057</td>\n",
       "      <td>0.178723</td>\n",
       "      <td>-1.184046</td>\n",
       "    </tr>\n",
       "    <tr>\n",
       "      <th>12</th>\n",
       "      <td>promo2_since_year</td>\n",
       "      <td>2009.0</td>\n",
       "      <td>2015.0</td>\n",
       "      <td>6.0</td>\n",
       "      <td>2012.793297</td>\n",
       "      <td>2013.0</td>\n",
       "      <td>1.662657</td>\n",
       "      <td>-0.784436</td>\n",
       "      <td>-0.210075</td>\n",
       "    </tr>\n",
       "    <tr>\n",
       "      <th>13</th>\n",
       "      <td>is_promo</td>\n",
       "      <td>0.0</td>\n",
       "      <td>1.0</td>\n",
       "      <td>1.0</td>\n",
       "      <td>0.149166</td>\n",
       "      <td>0.0</td>\n",
       "      <td>0.356252</td>\n",
       "      <td>1.969586</td>\n",
       "      <td>1.879273</td>\n",
       "    </tr>\n",
       "  </tbody>\n",
       "</table>\n",
       "</div>"
      ],
      "text/plain": [
       "                       attibutes     min       max     range         mean  \\\n",
       "0                          store     1.0    1115.0    1114.0   558.429727   \n",
       "1                    day_of_week     1.0       7.0       6.0     3.998341   \n",
       "2                          sales     0.0   41551.0   41551.0  5773.818972   \n",
       "3                      customers     0.0    7388.0    7388.0   633.145946   \n",
       "4                           open     0.0       1.0       1.0     0.830107   \n",
       "5                          promo     0.0       1.0       1.0     0.381515   \n",
       "6                 school_holiday     0.0       1.0       1.0     0.178647   \n",
       "7           competition_distance    20.0  200000.0  199980.0  5935.442677   \n",
       "8   competition_open_since_month     1.0      12.0      11.0     6.786849   \n",
       "9    competition_open_since_year  1900.0    2015.0     115.0  2010.324840   \n",
       "10                        promo2     0.0       1.0       1.0     0.500564   \n",
       "11             promo2_since_week     1.0      52.0      51.0    23.619033   \n",
       "12             promo2_since_year  2009.0    2015.0       6.0  2012.793297   \n",
       "13                      is_promo     0.0       1.0       1.0     0.149166   \n",
       "\n",
       "    median           std       skew     kutosis  \n",
       "0    558.0    321.908493  -0.000955   -1.200524  \n",
       "1      4.0      1.997390   0.001593   -1.246873  \n",
       "2   5744.0   3849.924283   0.641460    1.778375  \n",
       "3    609.0    464.411506   1.598650    7.091773  \n",
       "4      1.0      0.375539  -1.758045    1.090723  \n",
       "5      0.0      0.485758   0.487838   -1.762018  \n",
       "6      0.0      0.383056   1.677842    0.815154  \n",
       "7   2330.0  12547.646829  10.242344  147.789712  \n",
       "8      7.0      3.311085  -0.042076   -1.232607  \n",
       "9   2012.0      5.515591  -7.235657  124.071304  \n",
       "10     1.0      0.500000  -0.002255   -1.999999  \n",
       "11    22.0     14.310057   0.178723   -1.184046  \n",
       "12  2013.0      1.662657  -0.784436   -0.210075  \n",
       "13     0.0      0.356252   1.969586    1.879273  "
      ]
     },
     "execution_count": 28,
     "metadata": {},
     "output_type": "execute_result"
    }
   ],
   "source": [
    "m"
   ]
  },
  {
   "cell_type": "code",
   "execution_count": 29,
   "id": "7df7f339",
   "metadata": {
    "ExecuteTime": {
     "end_time": "2021-05-14T21:29:47.663871Z",
     "start_time": "2021-05-14T21:29:43.937689Z"
    },
    "scrolled": false
   },
   "outputs": [
    {
     "name": "stderr",
     "output_type": "stream",
     "text": [
      "/opt/anaconda3/envs/venv/lib/python3.8/site-packages/seaborn/distributions.py:2557: FutureWarning: `distplot` is a deprecated function and will be removed in a future version. Please adapt your code to use either `displot` (a figure-level function with similar flexibility) or `histplot` (an axes-level function for histograms).\n",
      "  warnings.warn(msg, FutureWarning)\n"
     ]
    },
    {
     "data": {
      "text/plain": [
       "<AxesSubplot:xlabel='competition_distance', ylabel='Density'>"
      ]
     },
     "execution_count": 29,
     "metadata": {},
     "output_type": "execute_result"
    },
    {
     "data": {
      "image/png": "[encoded data removed]",
      "text/plain": [
       "<Figure size 432x288 with 1 Axes>"
      ]
     },
     "metadata": {
      "needs_background": "light"
     },
     "output_type": "display_data"
    }
   ],
   "source": [
    "sns.distplot(df1['competition_distance'])"
   ]
  },
  {
   "cell_type": "markdown",
   "id": "b15bac1c",
   "metadata": {
    "ExecuteTime": {
     "end_time": "2021-05-14T17:51:00.253921Z",
     "start_time": "2021-05-14T17:51:00.247478Z"
    }
   },
   "source": [
    "### 1.7.2 Categorical Attributes"
   ]
  },
  {
   "cell_type": "code",
   "execution_count": 30,
   "id": "3d53bf4f",
   "metadata": {
    "ExecuteTime": {
     "end_time": "2021-05-14T21:29:47.958244Z",
     "start_time": "2021-05-14T21:29:47.668310Z"
    }
   },
   "outputs": [
    {
     "data": {
      "text/plain": [
       "state_holiday      4\n",
       "store_type         4\n",
       "assortment         3\n",
       "promo_interval     4\n",
       "month_map         12\n",
       "dtype: int64"
      ]
     },
     "execution_count": 30,
     "metadata": {},
     "output_type": "execute_result"
    }
   ],
   "source": [
    "cat_attributes.apply(lambda x: x.unique().shape[0])"
   ]
  },
  {
   "cell_type": "code",
   "execution_count": 31,
   "id": "5c939d76",
   "metadata": {
    "ExecuteTime": {
     "end_time": "2021-05-14T21:29:49.005264Z",
     "start_time": "2021-05-14T21:29:47.964138Z"
    }
   },
   "outputs": [
    {
     "data": {
      "text/plain": [
       "<AxesSubplot:xlabel='assortment', ylabel='sales'>"
      ]
     },
     "execution_count": 31,
     "metadata": {},
     "output_type": "execute_result"
    },
    {
     "data": {
      "image/png": "[encoded data removed]",
      "text/plain": [
       "<Figure size 432x288 with 3 Axes>"
      ]
     },
     "metadata": {
      "needs_background": "light"
     },
     "output_type": "display_data"
    }
   ],
   "source": [
    "aux1 = df1[(df1['state_holiday'] != '0') & (df1['sales']>0)]\n",
    "\n",
    "plt.subplot(1,3,1)\n",
    "sns.boxplot(x='state_holiday', y='sales', data=aux1)\n",
    "\n",
    "plt.subplot(1,3,2)\n",
    "sns.boxplot(x='store_type', y='sales', data=aux1)\n",
    "\n",
    "plt.subplot(1,3,3)\n",
    "sns.boxplot(x='assortment', y='sales', data=aux1)\n"
   ]
  },
  {
   "cell_type": "markdown",
   "id": "6c0dac1b",
   "metadata": {},
   "source": [
    "# 2.0 PASSO 02 - FEATURE ENGINEERING"
   ]
  },
  {
   "cell_type": "code",
   "execution_count": 32,
   "id": "7b701690",
   "metadata": {
    "ExecuteTime": {
     "end_time": "2021-05-14T21:29:49.160655Z",
     "start_time": "2021-05-14T21:29:49.010832Z"
    }
   },
   "outputs": [],
   "source": [
    "df2 = df1.copy()"
   ]
  },
  {
   "cell_type": "markdown",
   "id": "9fecc044",
   "metadata": {},
   "source": [
    "## 2.1 Mapa Mental de Hipóteses"
   ]
  },
  {
   "cell_type": "code",
   "execution_count": 33,
   "id": "8a9fa092",
   "metadata": {
    "ExecuteTime": {
     "end_time": "2021-05-14T21:29:49.222619Z",
     "start_time": "2021-05-14T21:29:49.173053Z"
    }
   },
   "outputs": [
    {
     "data": {
      "image/png": "[encoded data removed]",
      "text/plain": [
       "<IPython.core.display.Image object>"
      ]
     },
     "execution_count": 33,
     "metadata": {},
     "output_type": "execute_result"
    }
   ],
   "source": [
    "Image ('img/DAILY_STORE_SALES.png')"
   ]
  },
  {
   "cell_type": "markdown",
   "id": "48664e1d",
   "metadata": {},
   "source": [
    "## 2.2 Criação das Hipóteses"
   ]
  },
  {
   "cell_type": "markdown",
   "id": "1e00ca4d",
   "metadata": {},
   "source": [
    "### 2.2.1 Hipóteses Loja"
   ]
  },
  {
   "cell_type": "markdown",
   "id": "8c8e047e",
   "metadata": {
    "ExecuteTime": {
     "end_time": "2021-05-14T20:55:09.530635Z",
     "start_time": "2021-05-14T20:55:09.490345Z"
    }
   },
   "source": [
    "**1.** Lojas com maior quadro de funcionarios deveriam vender mais.\n",
    "\n",
    "**2.** Lojas com maior capacidade de estoque deveriam vender mais.\n",
    "\n",
    "**3.** Lojas com maior porte deveriam vender mais.\n",
    "\n",
    "**4.** Lojas com maior sortimento deveriam vender mais.\n",
    "\n",
    "**5.** Lojas com competidores mais proximos deveriam vender menos.\n",
    "\n",
    "**6.** Lojas com competidores a mais tempo deveriam vender mais."
   ]
  },
  {
   "cell_type": "markdown",
   "id": "ff6d9ca3",
   "metadata": {},
   "source": [
    "### 2.2.2 Hipóteses Produto"
   ]
  },
  {
   "cell_type": "markdown",
   "id": "47edb672",
   "metadata": {},
   "source": [
    "**1.** Lojas que investem mais em marketing deveriam vender mais.\n",
    "\n",
    "**2.** Lojas que expoem mais o produto nas vitrines deveriam vender mais.\n",
    "\n",
    "**3.** Lojas que tem precos menores nos produtos deveriam vender mais.\n",
    "\n",
    "**4.** Lojas que tem promocoes mais agressivas (descontos maiores), deveriam vender mais.\n",
    "\n",
    "**5.** Lojas com promocoes ativas por mais tempo deveriam vender mais.\n",
    "\n",
    "**6.** Lojas com mais dias de promocao deveriam vender mais.\n",
    "\n",
    "**7.** Lojas que tem mais promocoes consecutivas deveriam vender mais."
   ]
  },
  {
   "cell_type": "markdown",
   "id": "55f1fc0a",
   "metadata": {},
   "source": [
    "### 2.2.3 Hipóteses Tempo"
   ]
  },
  {
   "cell_type": "markdown",
   "id": "5510e692",
   "metadata": {},
   "source": [
    "**1.** Lojas que abrem no feriado do Natal deveriam vender mais.\n",
    "\n",
    "**2.** Lojas deveriam vender mais ao longo dos anos.\n",
    "\n",
    "**3.** Lojas deveriam vender mais no segundo semestre do ano.\n",
    "\n",
    "**4.** Lojas deveriam vender mais depois do dia 10 de cada mês.\n",
    "\n",
    "**5.** Lojas deveriam vender menos aos finais de semana.\n",
    "\n",
    "**6.** Lojas deveriam vender menos nos feriados escolares."
   ]
  },
  {
   "cell_type": "markdown",
   "id": "9090c403",
   "metadata": {},
   "source": [
    "## 2.3 Lista Final de Hipóteses"
   ]
  },
  {
   "cell_type": "markdown",
   "id": "2f1f72b1",
   "metadata": {},
   "source": [
    "**1.** Lojas com maior sortimento deveriam vender mais.\n",
    "\n",
    "**2.** Lojas com competidores mais proximos deveriam vender menos.\n",
    "\n",
    "**3.** Lojas com competidores a mais tempo deveriam vender mais.\n",
    "\n",
    "**4.** Lojas com promocoes ativas por mais tempo deveriam vender mais.\n",
    "\n",
    "**5.** Lojas com mais dias de promocao deveriam vender mais.\n",
    "\n",
    "**6.** Lojas que tem mais promocoes consecutivas deveriam vender mais.\n",
    "\n",
    "**7.** Lojas que abrem no feriado do Natal deveriam vender mais.\n",
    "\n",
    "**8.** Lojas deveriam vender mais ao longo dos anos.\n",
    "\n",
    "**9.** Lojas deveriam vender mais no segundo semestre do ano.\n",
    "\n",
    "**10.** Lojas deveriam vender mais depois do dia 10 de cada mês.\n",
    "\n",
    "**11.** Lojas deveriam vender menos aos finais de semana.\n",
    "\n",
    "**12.** Lojas deveriam vender menos nos feriados escolares."
   ]
  },
  {
   "cell_type": "markdown",
   "id": "52995ec0",
   "metadata": {},
   "source": [
    "## 2.4 Feature Engineering"
   ]
  },
  {
   "cell_type": "code",
   "execution_count": 68,
   "id": "d3047c1f",
   "metadata": {
    "ExecuteTime": {
     "end_time": "2021-05-15T14:24:08.563285Z",
     "start_time": "2021-05-15T14:22:15.615888Z"
    }
   },
   "outputs": [],
   "source": [
    "# year\n",
    "df2['year'] = df2['date'].dt.year\n",
    "\n",
    "# month\n",
    "df2['month'] = df2['date'].dt.month\n",
    "\n",
    "# day\n",
    "df2['day'] = df2['date'].dt.day\n",
    "\n",
    "# week of year\n",
    "df2['week_of_year'] = df2['date'].dt.isocalendar().week\n",
    "\n",
    "# year week\n",
    "df2['year_week'] = df2['date'].dt.strftime('%Y-%W')\n",
    "\n",
    "# competition since\n",
    "df2['competition_since'] = df2.apply(lambda x: datetime.datetime(year=x['competition_open_since_year'], month=x['competition_open_since_month'], day=1), axis=1)\n",
    "df2['competition_time_month'] = ((df2['date'] - df2['competition_since'])/30).apply(lambda x: x.days).astype(int)\n",
    "\n",
    "# promo since\n",
    "df2['promo_since'] = df2['promo2_since_year'].astype(str) + '-' + df2['promo2_since_week'].astype(str)\n",
    "df2['promo_since'] = df2['promo_since'].apply(lambda x: datetime.datetime.strptime (x + '-1', '%Y-%W-%w') - datetime.timedelta (days=7))\n",
    "df2['promo_time_week'] = ((df2['date'] - df2['promo_since'])/7).apply(lambda x: x.days).astype(int)\n",
    "\n",
    "# assortment\n",
    "df2['assortment'] = df2['assortment'].apply(lambda x: 'basic' if x == 'a' else 'extra' if x == 'b' else 'extended')\n",
    "\n",
    "# state holiday\n",
    "df2['state_holiday'] = df2['state_holiday'].apply(lambda x: 'public_holiday' if x == 'a' else 'easter_holiday' if x == 'b' else 'christmas' if x == 'c' else 'regular_day')\n"
   ]
  },
  {
   "cell_type": "code",
   "execution_count": 69,
   "id": "a6527394",
   "metadata": {
    "ExecuteTime": {
     "end_time": "2021-05-15T14:24:08.597976Z",
     "start_time": "2021-05-15T14:24:08.567605Z"
    }
   },
   "outputs": [
    {
     "data": {
      "text/html": [
       "<div>\n",
       "<style scoped>\n",
       "    .dataframe tbody tr th:only-of-type {\n",
       "        vertical-align: middle;\n",
       "    }\n",
       "\n",
       "    .dataframe tbody tr th {\n",
       "        vertical-align: top;\n",
       "    }\n",
       "\n",
       "    .dataframe thead th {\n",
       "        text-align: right;\n",
       "    }\n",
       "</style>\n",
       "<table border=\"1\" class=\"dataframe\">\n",
       "  <thead>\n",
       "    <tr style=\"text-align: right;\">\n",
       "      <th></th>\n",
       "      <th>0</th>\n",
       "      <th>1</th>\n",
       "      <th>2</th>\n",
       "      <th>3</th>\n",
       "      <th>4</th>\n",
       "    </tr>\n",
       "  </thead>\n",
       "  <tbody>\n",
       "    <tr>\n",
       "      <th>store</th>\n",
       "      <td>1</td>\n",
       "      <td>2</td>\n",
       "      <td>3</td>\n",
       "      <td>4</td>\n",
       "      <td>5</td>\n",
       "    </tr>\n",
       "    <tr>\n",
       "      <th>day_of_week</th>\n",
       "      <td>5</td>\n",
       "      <td>5</td>\n",
       "      <td>5</td>\n",
       "      <td>5</td>\n",
       "      <td>5</td>\n",
       "    </tr>\n",
       "    <tr>\n",
       "      <th>date</th>\n",
       "      <td>2015-07-31 00:00:00</td>\n",
       "      <td>2015-07-31 00:00:00</td>\n",
       "      <td>2015-07-31 00:00:00</td>\n",
       "      <td>2015-07-31 00:00:00</td>\n",
       "      <td>2015-07-31 00:00:00</td>\n",
       "    </tr>\n",
       "    <tr>\n",
       "      <th>sales</th>\n",
       "      <td>5263</td>\n",
       "      <td>6064</td>\n",
       "      <td>8314</td>\n",
       "      <td>13995</td>\n",
       "      <td>4822</td>\n",
       "    </tr>\n",
       "    <tr>\n",
       "      <th>customers</th>\n",
       "      <td>555</td>\n",
       "      <td>625</td>\n",
       "      <td>821</td>\n",
       "      <td>1498</td>\n",
       "      <td>559</td>\n",
       "    </tr>\n",
       "    <tr>\n",
       "      <th>open</th>\n",
       "      <td>1</td>\n",
       "      <td>1</td>\n",
       "      <td>1</td>\n",
       "      <td>1</td>\n",
       "      <td>1</td>\n",
       "    </tr>\n",
       "    <tr>\n",
       "      <th>promo</th>\n",
       "      <td>1</td>\n",
       "      <td>1</td>\n",
       "      <td>1</td>\n",
       "      <td>1</td>\n",
       "      <td>1</td>\n",
       "    </tr>\n",
       "    <tr>\n",
       "      <th>state_holiday</th>\n",
       "      <td>regular_day</td>\n",
       "      <td>regular_day</td>\n",
       "      <td>regular_day</td>\n",
       "      <td>regular_day</td>\n",
       "      <td>regular_day</td>\n",
       "    </tr>\n",
       "    <tr>\n",
       "      <th>school_holiday</th>\n",
       "      <td>1</td>\n",
       "      <td>1</td>\n",
       "      <td>1</td>\n",
       "      <td>1</td>\n",
       "      <td>1</td>\n",
       "    </tr>\n",
       "    <tr>\n",
       "      <th>store_type</th>\n",
       "      <td>c</td>\n",
       "      <td>a</td>\n",
       "      <td>a</td>\n",
       "      <td>c</td>\n",
       "      <td>a</td>\n",
       "    </tr>\n",
       "    <tr>\n",
       "      <th>assortment</th>\n",
       "      <td>extended</td>\n",
       "      <td>extended</td>\n",
       "      <td>extended</td>\n",
       "      <td>extended</td>\n",
       "      <td>extended</td>\n",
       "    </tr>\n",
       "    <tr>\n",
       "      <th>competition_distance</th>\n",
       "      <td>1270.0</td>\n",
       "      <td>570.0</td>\n",
       "      <td>14130.0</td>\n",
       "      <td>620.0</td>\n",
       "      <td>29910.0</td>\n",
       "    </tr>\n",
       "    <tr>\n",
       "      <th>competition_open_since_month</th>\n",
       "      <td>9</td>\n",
       "      <td>11</td>\n",
       "      <td>12</td>\n",
       "      <td>9</td>\n",
       "      <td>4</td>\n",
       "    </tr>\n",
       "    <tr>\n",
       "      <th>competition_open_since_year</th>\n",
       "      <td>2008</td>\n",
       "      <td>2007</td>\n",
       "      <td>2006</td>\n",
       "      <td>2009</td>\n",
       "      <td>2015</td>\n",
       "    </tr>\n",
       "    <tr>\n",
       "      <th>promo2</th>\n",
       "      <td>0</td>\n",
       "      <td>1</td>\n",
       "      <td>1</td>\n",
       "      <td>0</td>\n",
       "      <td>0</td>\n",
       "    </tr>\n",
       "    <tr>\n",
       "      <th>promo2_since_week</th>\n",
       "      <td>31</td>\n",
       "      <td>13</td>\n",
       "      <td>14</td>\n",
       "      <td>31</td>\n",
       "      <td>31</td>\n",
       "    </tr>\n",
       "    <tr>\n",
       "      <th>promo2_since_year</th>\n",
       "      <td>2015</td>\n",
       "      <td>2010</td>\n",
       "      <td>2011</td>\n",
       "      <td>2015</td>\n",
       "      <td>2015</td>\n",
       "    </tr>\n",
       "    <tr>\n",
       "      <th>promo_interval</th>\n",
       "      <td>0</td>\n",
       "      <td>Jan,Apr,Jul,Oct</td>\n",
       "      <td>Jan,Apr,Jul,Oct</td>\n",
       "      <td>0</td>\n",
       "      <td>0</td>\n",
       "    </tr>\n",
       "    <tr>\n",
       "      <th>month_map</th>\n",
       "      <td>Jul</td>\n",
       "      <td>Jul</td>\n",
       "      <td>Jul</td>\n",
       "      <td>Jul</td>\n",
       "      <td>Jul</td>\n",
       "    </tr>\n",
       "    <tr>\n",
       "      <th>is_promo</th>\n",
       "      <td>0</td>\n",
       "      <td>1</td>\n",
       "      <td>1</td>\n",
       "      <td>0</td>\n",
       "      <td>0</td>\n",
       "    </tr>\n",
       "    <tr>\n",
       "      <th>year</th>\n",
       "      <td>2015</td>\n",
       "      <td>2015</td>\n",
       "      <td>2015</td>\n",
       "      <td>2015</td>\n",
       "      <td>2015</td>\n",
       "    </tr>\n",
       "    <tr>\n",
       "      <th>month</th>\n",
       "      <td>7</td>\n",
       "      <td>7</td>\n",
       "      <td>7</td>\n",
       "      <td>7</td>\n",
       "      <td>7</td>\n",
       "    </tr>\n",
       "    <tr>\n",
       "      <th>day</th>\n",
       "      <td>31</td>\n",
       "      <td>31</td>\n",
       "      <td>31</td>\n",
       "      <td>31</td>\n",
       "      <td>31</td>\n",
       "    </tr>\n",
       "    <tr>\n",
       "      <th>week_of_year</th>\n",
       "      <td>31</td>\n",
       "      <td>31</td>\n",
       "      <td>31</td>\n",
       "      <td>31</td>\n",
       "      <td>31</td>\n",
       "    </tr>\n",
       "    <tr>\n",
       "      <th>year_week</th>\n",
       "      <td>2015-30</td>\n",
       "      <td>2015-30</td>\n",
       "      <td>2015-30</td>\n",
       "      <td>2015-30</td>\n",
       "      <td>2015-30</td>\n",
       "    </tr>\n",
       "    <tr>\n",
       "      <th>competition_since</th>\n",
       "      <td>2008-09-01 00:00:00</td>\n",
       "      <td>2007-11-01 00:00:00</td>\n",
       "      <td>2006-12-01 00:00:00</td>\n",
       "      <td>2009-09-01 00:00:00</td>\n",
       "      <td>2015-04-01 00:00:00</td>\n",
       "    </tr>\n",
       "    <tr>\n",
       "      <th>competition_time_month</th>\n",
       "      <td>84</td>\n",
       "      <td>94</td>\n",
       "      <td>105</td>\n",
       "      <td>71</td>\n",
       "      <td>4</td>\n",
       "    </tr>\n",
       "    <tr>\n",
       "      <th>promo_since</th>\n",
       "      <td>2015-07-27 00:00:00</td>\n",
       "      <td>2010-03-22 00:00:00</td>\n",
       "      <td>2011-03-28 00:00:00</td>\n",
       "      <td>2015-07-27 00:00:00</td>\n",
       "      <td>2015-07-27 00:00:00</td>\n",
       "    </tr>\n",
       "    <tr>\n",
       "      <th>promo_time_week</th>\n",
       "      <td>0</td>\n",
       "      <td>279</td>\n",
       "      <td>226</td>\n",
       "      <td>0</td>\n",
       "      <td>0</td>\n",
       "    </tr>\n",
       "  </tbody>\n",
       "</table>\n",
       "</div>"
      ],
      "text/plain": [
       "                                                0                    1  \\\n",
       "store                                           1                    2   \n",
       "day_of_week                                     5                    5   \n",
       "date                          2015-07-31 00:00:00  2015-07-31 00:00:00   \n",
       "sales                                        5263                 6064   \n",
       "customers                                     555                  625   \n",
       "open                                            1                    1   \n",
       "promo                                           1                    1   \n",
       "state_holiday                         regular_day          regular_day   \n",
       "school_holiday                                  1                    1   \n",
       "store_type                                      c                    a   \n",
       "assortment                               extended             extended   \n",
       "competition_distance                       1270.0                570.0   \n",
       "competition_open_since_month                    9                   11   \n",
       "competition_open_since_year                  2008                 2007   \n",
       "promo2                                          0                    1   \n",
       "promo2_since_week                              31                   13   \n",
       "promo2_since_year                            2015                 2010   \n",
       "promo_interval                                  0      Jan,Apr,Jul,Oct   \n",
       "month_map                                     Jul                  Jul   \n",
       "is_promo                                        0                    1   \n",
       "year                                         2015                 2015   \n",
       "month                                           7                    7   \n",
       "day                                            31                   31   \n",
       "week_of_year                                   31                   31   \n",
       "year_week                                 2015-30              2015-30   \n",
       "competition_since             2008-09-01 00:00:00  2007-11-01 00:00:00   \n",
       "competition_time_month                         84                   94   \n",
       "promo_since                   2015-07-27 00:00:00  2010-03-22 00:00:00   \n",
       "promo_time_week                                 0                  279   \n",
       "\n",
       "                                                2                    3  \\\n",
       "store                                           3                    4   \n",
       "day_of_week                                     5                    5   \n",
       "date                          2015-07-31 00:00:00  2015-07-31 00:00:00   \n",
       "sales                                        8314                13995   \n",
       "customers                                     821                 1498   \n",
       "open                                            1                    1   \n",
       "promo                                           1                    1   \n",
       "state_holiday                         regular_day          regular_day   \n",
       "school_holiday                                  1                    1   \n",
       "store_type                                      a                    c   \n",
       "assortment                               extended             extended   \n",
       "competition_distance                      14130.0                620.0   \n",
       "competition_open_since_month                   12                    9   \n",
       "competition_open_since_year                  2006                 2009   \n",
       "promo2                                          1                    0   \n",
       "promo2_since_week                              14                   31   \n",
       "promo2_since_year                            2011                 2015   \n",
       "promo_interval                    Jan,Apr,Jul,Oct                    0   \n",
       "month_map                                     Jul                  Jul   \n",
       "is_promo                                        1                    0   \n",
       "year                                         2015                 2015   \n",
       "month                                           7                    7   \n",
       "day                                            31                   31   \n",
       "week_of_year                                   31                   31   \n",
       "year_week                                 2015-30              2015-30   \n",
       "competition_since             2006-12-01 00:00:00  2009-09-01 00:00:00   \n",
       "competition_time_month                        105                   71   \n",
       "promo_since                   2011-03-28 00:00:00  2015-07-27 00:00:00   \n",
       "promo_time_week                               226                    0   \n",
       "\n",
       "                                                4  \n",
       "store                                           5  \n",
       "day_of_week                                     5  \n",
       "date                          2015-07-31 00:00:00  \n",
       "sales                                        4822  \n",
       "customers                                     559  \n",
       "open                                            1  \n",
       "promo                                           1  \n",
       "state_holiday                         regular_day  \n",
       "school_holiday                                  1  \n",
       "store_type                                      a  \n",
       "assortment                               extended  \n",
       "competition_distance                      29910.0  \n",
       "competition_open_since_month                    4  \n",
       "competition_open_since_year                  2015  \n",
       "promo2                                          0  \n",
       "promo2_since_week                              31  \n",
       "promo2_since_year                            2015  \n",
       "promo_interval                                  0  \n",
       "month_map                                     Jul  \n",
       "is_promo                                        0  \n",
       "year                                         2015  \n",
       "month                                           7  \n",
       "day                                            31  \n",
       "week_of_year                                   31  \n",
       "year_week                                 2015-30  \n",
       "competition_since             2015-04-01 00:00:00  \n",
       "competition_time_month                          4  \n",
       "promo_since                   2015-07-27 00:00:00  \n",
       "promo_time_week                                 0  "
      ]
     },
     "execution_count": 69,
     "metadata": {},
     "output_type": "execute_result"
    }
   ],
   "source": [
    "df2.head().T"
   ]
  },
  {
   "cell_type": "markdown",
   "id": "39d29e9a",
   "metadata": {},
   "source": [
    "# 3.0 PASSO 03 - FILTRAGEM DAS VARIÁVEIS"
   ]
  },
  {
   "cell_type": "code",
   "execution_count": 70,
   "id": "7eebe3c1",
   "metadata": {
    "ExecuteTime": {
     "end_time": "2021-05-15T15:30:45.893430Z",
     "start_time": "2021-05-15T15:30:45.285615Z"
    }
   },
   "outputs": [],
   "source": [
    "df3 = df2.copy()"
   ]
  },
  {
   "cell_type": "code",
   "execution_count": 71,
   "id": "4127caa7",
   "metadata": {
    "ExecuteTime": {
     "end_time": "2021-05-15T15:33:14.292666Z",
     "start_time": "2021-05-15T15:33:14.184613Z"
    }
   },
   "outputs": [
    {
     "data": {
      "text/html": [
       "<div>\n",
       "<style scoped>\n",
       "    .dataframe tbody tr th:only-of-type {\n",
       "        vertical-align: middle;\n",
       "    }\n",
       "\n",
       "    .dataframe tbody tr th {\n",
       "        vertical-align: top;\n",
       "    }\n",
       "\n",
       "    .dataframe thead th {\n",
       "        text-align: right;\n",
       "    }\n",
       "</style>\n",
       "<table border=\"1\" class=\"dataframe\">\n",
       "  <thead>\n",
       "    <tr style=\"text-align: right;\">\n",
       "      <th></th>\n",
       "      <th>store</th>\n",
       "      <th>day_of_week</th>\n",
       "      <th>date</th>\n",
       "      <th>sales</th>\n",
       "      <th>customers</th>\n",
       "      <th>open</th>\n",
       "      <th>promo</th>\n",
       "      <th>state_holiday</th>\n",
       "      <th>school_holiday</th>\n",
       "      <th>store_type</th>\n",
       "      <th>...</th>\n",
       "      <th>is_promo</th>\n",
       "      <th>year</th>\n",
       "      <th>month</th>\n",
       "      <th>day</th>\n",
       "      <th>week_of_year</th>\n",
       "      <th>year_week</th>\n",
       "      <th>competition_since</th>\n",
       "      <th>competition_time_month</th>\n",
       "      <th>promo_since</th>\n",
       "      <th>promo_time_week</th>\n",
       "    </tr>\n",
       "  </thead>\n",
       "  <tbody>\n",
       "    <tr>\n",
       "      <th>0</th>\n",
       "      <td>1</td>\n",
       "      <td>5</td>\n",
       "      <td>2015-07-31</td>\n",
       "      <td>5263</td>\n",
       "      <td>555</td>\n",
       "      <td>1</td>\n",
       "      <td>1</td>\n",
       "      <td>regular_day</td>\n",
       "      <td>1</td>\n",
       "      <td>c</td>\n",
       "      <td>...</td>\n",
       "      <td>0</td>\n",
       "      <td>2015</td>\n",
       "      <td>7</td>\n",
       "      <td>31</td>\n",
       "      <td>31</td>\n",
       "      <td>2015-30</td>\n",
       "      <td>2008-09-01</td>\n",
       "      <td>84</td>\n",
       "      <td>2015-07-27</td>\n",
       "      <td>0</td>\n",
       "    </tr>\n",
       "    <tr>\n",
       "      <th>1</th>\n",
       "      <td>2</td>\n",
       "      <td>5</td>\n",
       "      <td>2015-07-31</td>\n",
       "      <td>6064</td>\n",
       "      <td>625</td>\n",
       "      <td>1</td>\n",
       "      <td>1</td>\n",
       "      <td>regular_day</td>\n",
       "      <td>1</td>\n",
       "      <td>a</td>\n",
       "      <td>...</td>\n",
       "      <td>1</td>\n",
       "      <td>2015</td>\n",
       "      <td>7</td>\n",
       "      <td>31</td>\n",
       "      <td>31</td>\n",
       "      <td>2015-30</td>\n",
       "      <td>2007-11-01</td>\n",
       "      <td>94</td>\n",
       "      <td>2010-03-22</td>\n",
       "      <td>279</td>\n",
       "    </tr>\n",
       "    <tr>\n",
       "      <th>2</th>\n",
       "      <td>3</td>\n",
       "      <td>5</td>\n",
       "      <td>2015-07-31</td>\n",
       "      <td>8314</td>\n",
       "      <td>821</td>\n",
       "      <td>1</td>\n",
       "      <td>1</td>\n",
       "      <td>regular_day</td>\n",
       "      <td>1</td>\n",
       "      <td>a</td>\n",
       "      <td>...</td>\n",
       "      <td>1</td>\n",
       "      <td>2015</td>\n",
       "      <td>7</td>\n",
       "      <td>31</td>\n",
       "      <td>31</td>\n",
       "      <td>2015-30</td>\n",
       "      <td>2006-12-01</td>\n",
       "      <td>105</td>\n",
       "      <td>2011-03-28</td>\n",
       "      <td>226</td>\n",
       "    </tr>\n",
       "    <tr>\n",
       "      <th>3</th>\n",
       "      <td>4</td>\n",
       "      <td>5</td>\n",
       "      <td>2015-07-31</td>\n",
       "      <td>13995</td>\n",
       "      <td>1498</td>\n",
       "      <td>1</td>\n",
       "      <td>1</td>\n",
       "      <td>regular_day</td>\n",
       "      <td>1</td>\n",
       "      <td>c</td>\n",
       "      <td>...</td>\n",
       "      <td>0</td>\n",
       "      <td>2015</td>\n",
       "      <td>7</td>\n",
       "      <td>31</td>\n",
       "      <td>31</td>\n",
       "      <td>2015-30</td>\n",
       "      <td>2009-09-01</td>\n",
       "      <td>71</td>\n",
       "      <td>2015-07-27</td>\n",
       "      <td>0</td>\n",
       "    </tr>\n",
       "    <tr>\n",
       "      <th>4</th>\n",
       "      <td>5</td>\n",
       "      <td>5</td>\n",
       "      <td>2015-07-31</td>\n",
       "      <td>4822</td>\n",
       "      <td>559</td>\n",
       "      <td>1</td>\n",
       "      <td>1</td>\n",
       "      <td>regular_day</td>\n",
       "      <td>1</td>\n",
       "      <td>a</td>\n",
       "      <td>...</td>\n",
       "      <td>0</td>\n",
       "      <td>2015</td>\n",
       "      <td>7</td>\n",
       "      <td>31</td>\n",
       "      <td>31</td>\n",
       "      <td>2015-30</td>\n",
       "      <td>2015-04-01</td>\n",
       "      <td>4</td>\n",
       "      <td>2015-07-27</td>\n",
       "      <td>0</td>\n",
       "    </tr>\n",
       "  </tbody>\n",
       "</table>\n",
       "<p>5 rows × 29 columns</p>\n",
       "</div>"
      ],
      "text/plain": [
       "   store  day_of_week       date  sales  customers  open  promo state_holiday  \\\n",
       "0      1            5 2015-07-31   5263        555     1      1   regular_day   \n",
       "1      2            5 2015-07-31   6064        625     1      1   regular_day   \n",
       "2      3            5 2015-07-31   8314        821     1      1   regular_day   \n",
       "3      4            5 2015-07-31  13995       1498     1      1   regular_day   \n",
       "4      5            5 2015-07-31   4822        559     1      1   regular_day   \n",
       "\n",
       "   school_holiday store_type  ... is_promo  year  month  day  week_of_year  \\\n",
       "0               1          c  ...        0  2015      7   31            31   \n",
       "1               1          a  ...        1  2015      7   31            31   \n",
       "2               1          a  ...        1  2015      7   31            31   \n",
       "3               1          c  ...        0  2015      7   31            31   \n",
       "4               1          a  ...        0  2015      7   31            31   \n",
       "\n",
       "   year_week  competition_since competition_time_month promo_since  \\\n",
       "0    2015-30         2008-09-01                     84  2015-07-27   \n",
       "1    2015-30         2007-11-01                     94  2010-03-22   \n",
       "2    2015-30         2006-12-01                    105  2011-03-28   \n",
       "3    2015-30         2009-09-01                     71  2015-07-27   \n",
       "4    2015-30         2015-04-01                      4  2015-07-27   \n",
       "\n",
       "   promo_time_week  \n",
       "0                0  \n",
       "1              279  \n",
       "2              226  \n",
       "3                0  \n",
       "4                0  \n",
       "\n",
       "[5 rows x 29 columns]"
      ]
     },
     "execution_count": 71,
     "metadata": {},
     "output_type": "execute_result"
    }
   ],
   "source": [
    "df3.head()"
   ]
  },
  {
   "cell_type": "markdown",
   "id": "7f7874a2",
   "metadata": {},
   "source": [
    "## 3.1 Filtragem das linhas"
   ]
  },
  {
   "cell_type": "code",
   "execution_count": null,
   "id": "371119ae",
   "metadata": {},
   "outputs": [],
   "source": [
    "df3 = df3[(df3['open'] != 0) &  (df3['sales'] > 0)]"
   ]
  },
  {
   "cell_type": "markdown",
   "id": "583945f9",
   "metadata": {},
   "source": [
    "## 3.2 Seleção das colunas"
   ]
  },
  {
   "cell_type": "code",
   "execution_count": 72,
   "id": "5ab9b77b",
   "metadata": {
    "ExecuteTime": {
     "end_time": "2021-05-15T15:38:56.581701Z",
     "start_time": "2021-05-15T15:38:56.138196Z"
    }
   },
   "outputs": [],
   "source": [
    "cols_drop = ['customers', 'open', 'promo_interval', 'month_map']\n",
    "df3 = df3.drop(cols_drop, axis=1)\n"
   ]
  },
  {
   "cell_type": "code",
   "execution_count": 73,
   "id": "26201524",
   "metadata": {
    "ExecuteTime": {
     "end_time": "2021-05-15T15:39:00.589515Z",
     "start_time": "2021-05-15T15:39:00.577006Z"
    }
   },
   "outputs": [
    {
     "data": {
      "text/plain": [
       "Index(['store', 'day_of_week', 'date', 'sales', 'promo', 'state_holiday',\n",
       "       'school_holiday', 'store_type', 'assortment', 'competition_distance',\n",
       "       'competition_open_since_month', 'competition_open_since_year', 'promo2',\n",
       "       'promo2_since_week', 'promo2_since_year', 'is_promo', 'year', 'month',\n",
       "       'day', 'week_of_year', 'year_week', 'competition_since',\n",
       "       'competition_time_month', 'promo_since', 'promo_time_week'],\n",
       "      dtype='object')"
      ]
     },
     "execution_count": 73,
     "metadata": {},
     "output_type": "execute_result"
    }
   ],
   "source": [
    "df3.columns"
   ]
  },
  {
   "cell_type": "code",
   "execution_count": null,
   "id": "21e35f88",
   "metadata": {},
   "outputs": [],
   "source": []
  }
 ],
 "metadata": {
  "kernelspec": {
   "display_name": "Python 3",
   "language": "python",
   "name": "python3"
  },
  "language_info": {
   "codemirror_mode": {
    "name": "ipython",
    "version": 3
   },
   "file_extension": ".py",
   "mimetype": "text/x-python",
   "name": "python",
   "nbconvert_exporter": "python",
   "pygments_lexer": "ipython3",
   "version": "3.8.8"
  }
 },
 "nbformat": 4,
 "nbformat_minor": 5
}
